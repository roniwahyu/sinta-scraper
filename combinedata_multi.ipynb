{
 "cells": [
  {
   "cell_type": "code",
   "execution_count": null,
   "metadata": {},
   "outputs": [],
   "source": [
    "import pandas as pd\n",
    "\n",
    "# Load the CSV file with researcher information\n",
    "researcher_data_path = \"XLSX/authors_data_teknikindustri.csv\"  # Update with the actual path\n",
    "researcher_data = pd.read_csv(researcher_data_path)\n",
    "\n",
    "# Iterate over each researcher based on SINTA_ID\n",
    "for _, row in researcher_data.iterrows():\n",
    "    researcher_id = str(row['SINTA_ID'])\n",
    "    author_name = row['Author_Name']\n",
    "    university = row['University']\n",
    "    department = row['Department']\n",
    "    \n",
    "    # Define file paths for each researcher's specific files\n",
    "    file_paths = [\n",
    "        f\"XLSX/wos_{researcher_id}_articles.xlsx\",\n",
    "        f\"XLSX/garuda_{researcher_id}_articles.xlsx\",\n",
    "        f\"XLSX/googlescholar_{researcher_id}_articles.xlsx\",\n",
    "        f\"XLSX/scopus_{researcher_id}_articles.xlsx\"\n",
    "    ]\n",
    "    \n",
    "    # Initialize an empty DataFrame for combining data\n",
    "    combined_df = pd.DataFrame()\n",
    "\n",
    "    # Process each file for the current researcher\n",
    "    for file_path in file_paths:\n",
    "        # Determine the source name from the file path\n",
    "        source_name = file_path.split('/')[-1].split('_')[0].capitalize()\n",
    "        \n",
    "        try:\n",
    "            # Load the Excel file\n",
    "            df = pd.read_excel(file_path)\n",
    "            \n",
    "            # Add \"Source\", \"Author_Name\", \"University\", and \"Department\" columns\n",
    "            df['Source'] = source_name\n",
    "            df['Author_Name'] = author_name\n",
    "            df['University'] = university\n",
    "            df['Department'] = department\n",
    "            \n",
    "            # Concatenate the data with combined_df\n",
    "            combined_df = pd.concat([combined_df, df], ignore_index=True)\n",
    "        \n",
    "        except FileNotFoundError:\n",
    "            print(f\"File {file_path} not found for researcher {researcher_id}. Skipping this source.\")\n",
    "        except Exception as e:\n",
    "            print(f\"An error occurred with {file_path} for researcher {researcher_id}: {e}\")\n",
    "    \n",
    "    # Save the combined data to a new Excel file for each researcher using their name in the file name\n",
    "    safe_author_name = author_name.replace(\" \", \"_\")  # Replace spaces with underscores for file naming\n",
    "    output_path = f\"XLSX/combined_articles_with_source_{safe_author_name}.xlsx\"\n",
    "    combined_df.to_excel(output_path, index=False)\n",
    "    print(f\"Combined file for {author_name} (SINTA_ID {researcher_id}) saved at: {output_path}\")\n"
   ]
  }
 ],
 "metadata": {
  "kernelspec": {
   "display_name": "Python 3",
   "language": "python",
   "name": "python3"
  },
  "language_info": {
   "name": "python",
   "version": "3.12.3"
  }
 },
 "nbformat": 4,
 "nbformat_minor": 2
}
