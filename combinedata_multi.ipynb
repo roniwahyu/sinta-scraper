{
 "cells": [
  {
   "cell_type": "code",
   "execution_count": 1,
   "metadata": {},
   "outputs": [
    {
     "name": "stdout",
     "output_type": "stream",
     "text": [
      "Combined file for ISTIADI (SINTA_ID 161222) saved at: XLSX/combined_articles_with_source_ISTIADI.xlsx\n",
      "Combined file for ADYA HERMAWATI (SINTA_ID 5977530) saved at: XLSX/combined_articles_with_source_ADYA_HERMAWATI.xlsx\n",
      "Combined file for PURBO SUWANDONO (SINTA_ID 6663726) saved at: XLSX/combined_articles_with_source_PURBO_SUWANDONO.xlsx\n",
      "Combined file for EMMA BUDI SULISTIARINI (SINTA_ID 6104467) saved at: XLSX/combined_articles_with_source_EMMA_BUDI_SULISTIARINI.xlsx\n",
      "Combined file for ARIE RESTU WARDHANI (SINTA_ID 5977277) saved at: XLSX/combined_articles_with_source_ARIE_RESTU_WARDHANI.xlsx\n",
      "Combined file for DADANG HERMAWAN (SINTA_ID 5987236) saved at: XLSX/combined_articles_with_source_DADANG_HERMAWAN.xlsx\n",
      "Combined file for NOVA RISDIYANTO ISMAIL (SINTA_ID 5989963) saved at: XLSX/combined_articles_with_source_NOVA_RISDIYANTO_ISMAIL.xlsx\n",
      "Combined file for CHAULIAH FATMA PUTRI (SINTA_ID 5981061) saved at: XLSX/combined_articles_with_source_CHAULIAH_FATMA_PUTRI.xlsx\n",
      "Combined file for ARIEF RIZKI FADHILLAH (SINTA_ID 6695241) saved at: XLSX/combined_articles_with_source_ARIEF_RIZKI_FADHILLAH.xlsx\n",
      "Combined file for SILVIANA (SINTA_ID 5990635) saved at: XLSX/combined_articles_with_source_SILVIANA.xlsx\n",
      "Combined file for NGUDI TJAHJONO (SINTA_ID 6655997) saved at: XLSX/combined_articles_with_source_NGUDI_TJAHJONO.xlsx\n",
      "Combined file for RANGGA PAHLEVI PUTRA (SINTA_ID 6729051) saved at: XLSX/combined_articles_with_source_RANGGA_PAHLEVI_PUTRA.xlsx\n",
      "Combined file for ANDY HARDIANTO (SINTA_ID 6745431) saved at: XLSX/combined_articles_with_source_ANDY_HARDIANTO.xlsx\n"
     ]
    }
   ],
   "source": [
    "import pandas as pd\n",
    "\n",
    "# Load the CSV file with researcher information\n",
    "researcher_data_path = \"XLSX/authors_data_teknikindustri.csv\"  # Update with the actual path\n",
    "researcher_data = pd.read_csv(researcher_data_path)\n",
    "\n",
    "# Iterate over each researcher based on SINTA_ID\n",
    "for _, row in researcher_data.iterrows():\n",
    "    researcher_id = str(row['SINTA_ID'])\n",
    "    author_name = row['Author_Name']\n",
    "    university = row['University']\n",
    "    department = row['Department']\n",
    "    \n",
    "    # Define file paths for each researcher's specific files\n",
    "    file_paths = [\n",
    "        f\"XLSX/wos_{researcher_id}_articles.xlsx\",\n",
    "        f\"XLSX/garuda_{researcher_id}_articles.xlsx\",\n",
    "        f\"XLSX/googlescholar_{researcher_id}_articles.xlsx\",\n",
    "        f\"XLSX/scopus_{researcher_id}_articles.xlsx\"\n",
    "    ]\n",
    "    \n",
    "    # Initialize an empty DataFrame for combining data\n",
    "    combined_df = pd.DataFrame()\n",
    "\n",
    "    # Process each file for the current researcher\n",
    "    for file_path in file_paths:\n",
    "        # Determine the source name from the file path\n",
    "        source_name = file_path.split('/')[-1].split('_')[0].capitalize()\n",
    "        \n",
    "        try:\n",
    "            # Load the Excel file\n",
    "            df = pd.read_excel(file_path)\n",
    "            \n",
    "            # Add \"Source\", \"Author_Name\", \"University\", and \"Department\" columns\n",
    "            df['Source'] = source_name\n",
    "            df['Author_Name'] = author_name\n",
    "            df['University'] = university\n",
    "            df['Department'] = department\n",
    "            \n",
    "            # Concatenate the data with combined_df\n",
    "            combined_df = pd.concat([combined_df, df], ignore_index=True)\n",
    "        \n",
    "        except FileNotFoundError:\n",
    "            print(f\"File {file_path} not found for researcher {researcher_id}. Skipping this source.\")\n",
    "        except Exception as e:\n",
    "            print(f\"An error occurred with {file_path} for researcher {researcher_id}: {e}\")\n",
    "    \n",
    "    # Save the combined data to a new Excel file for each researcher using their name in the file name\n",
    "    safe_author_name = author_name.replace(\" \", \"_\")  # Replace spaces with underscores for file naming\n",
    "    output_path = f\"XLSX/combined_articles_with_source_{safe_author_name}.xlsx\"\n",
    "    combined_df.to_excel(output_path, index=False)\n",
    "    print(f\"Combined file for {author_name} (SINTA_ID {researcher_id}) saved at: {output_path}\")\n"
   ]
  }
 ],
 "metadata": {
  "kernelspec": {
   "display_name": "Python 3",
   "language": "python",
   "name": "python3"
  },
  "language_info": {
   "codemirror_mode": {
    "name": "ipython",
    "version": 3
   },
   "file_extension": ".py",
   "mimetype": "text/x-python",
   "name": "python",
   "nbconvert_exporter": "python",
   "pygments_lexer": "ipython3",
   "version": "3.12.3"
  }
 },
 "nbformat": 4,
 "nbformat_minor": 2
}
