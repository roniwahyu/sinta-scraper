{
 "cells": [
  {
   "cell_type": "code",
   "execution_count": 1,
   "metadata": {},
   "outputs": [],
   "source": [
    "from selenium import webdriver\n",
    "from selenium.webdriver.common.by import By\n",
    "from selenium.webdriver.common.keys import Keys\n",
    "import pickle\n",
    "import time\n",
    "import re\n",
    "import pandas as pd\n"
   ]
  },
  {
   "cell_type": "code",
   "execution_count": 2,
   "metadata": {},
   "outputs": [],
   "source": [
    "\n",
    "# def setup_driver(chrome_driver_path):\n",
    "def setup_driver():\n",
    "    # driver = webdriver.Chrome(executable_path=chrome_driver_path)\n",
    "    # Setup Chrome driver\n",
    "\n",
    "    chrome_options = webdriver.ChromeOptions()\n",
    "    # chrome_options.add_argument('--headless')\n",
    "    chrome_options.add_argument('--no-sandbox')\n",
    "    chrome_options.add_argument('--disable-dev-shm-usage')\n",
    "    driver = webdriver.Chrome(options=chrome_options)\n",
    "    return driver\n"
   ]
  },
  {
   "cell_type": "code",
   "execution_count": 3,
   "metadata": {},
   "outputs": [],
   "source": [
    "\n",
    "def login_sinta(driver, username, password):\n",
    "    driver.get(\"https://sinta.kemdikbud.go.id/\")\n",
    "    time.sleep(3)\n",
    "    username_field = driver.find_element(By.NAME, \"username\") if len(driver.find_elements(By.NAME, \"username\")) > 0 else driver.find_element(By.XPATH, '//input[@name=\"username\"]')\n",
    "    password_field = driver.find_element(By.NAME, \"password\") if len(driver.find_elements(By.NAME, \"password\")) > 0 else driver.find_element(By.XPATH, '//input[@name=\"password\"]')\n",
    "    \n",
    "    username_field.send_keys(username)\n",
    "    password_field.send_keys(password)\n",
    "    \n",
    "    print(\"Username field value: \", username_field.get_attribute(\"value\"))\n",
    "    print(\"Password field value: \", password_field.get_attribute(\"value\"))\n",
    "    \n",
    "    login_button = driver.find_element(By.CSS_SELECTOR, 'button.btn.btn-block.btn-info')\n",
    "    login_button.click()\n",
    "    time.sleep(5)\n",
    "    \n",
    "    with open(\"sinta_session.pkl\", \"wb\") as session_file:\n",
    "        pickle.dump(driver.get_cookies(), session_file)\n",
    "    \n",
    "    print(\"Session saved successfully!\")\n"
   ]
  },
  {
   "cell_type": "code",
   "execution_count": 5,
   "metadata": {},
   "outputs": [],
   "source": [
    "\n",
    "def load_session(driver):\n",
    "    with open(\"sinta_session.pkl\", \"rb\") as session_file:\n",
    "        cookies = pickle.load(session_file)\n",
    "        for cookie in cookies:\n",
    "            driver.add_cookie(cookie)\n",
    "    driver.refresh()\n",
    "    print(\"Session loaded successfully!\")\n"
   ]
  },
  {
   "cell_type": "code",
   "execution_count": 7,
   "metadata": {},
   "outputs": [],
   "source": [
    "\n",
    "def navigate_to_tab(driver, researcher_id, view):\n",
    "    driver.get(f\"https://sinta.kemdikbud.go.id/authors/profile/{researcher_id}/?view={view}\")\n",
    "    print(f\"Navigated to {view} tab for researcher profile with ID: {researcher_id}\")\n",
    "    time.sleep(3)\n"
   ]
  },
  {
   "cell_type": "code",
   "execution_count": 8,
   "metadata": {},
   "outputs": [],
   "source": [
    "\n",
    "def scrape_articles(driver):\n",
    "    articles = []\n",
    "    pagination_text_element = driver.find_element(By.CSS_SELECTOR, 'div.pagination-text')\n",
    "    pagination_text = pagination_text_element.text\n",
    "    match = re.search(r'Page \\d+ of (\\d+)', pagination_text)\n",
    "    if match:\n",
    "        total_pages = int(match.group(1))\n",
    "        print(f\"Total number of pages: {total_pages}\")\n",
    "    else:\n",
    "        print(\"Unable to determine total number of pages.\")\n",
    "        total_pages = 1\n",
    "\n",
    "    for page in range(1, total_pages + 1):\n",
    "        print(f\"Scraping page {page} of {total_pages}\")\n",
    "        time.sleep(3)\n",
    "        div_elements = driver.find_elements(By.CSS_SELECTOR, 'div.ar-list-item.mb-5')\n",
    "        for div in div_elements:\n",
    "            try:\n",
    "                title = div.find_element(By.CSS_SELECTOR, 'div.ar-title > a').text\n",
    "            except:\n",
    "                title = \"N/A\"\n",
    "            try:\n",
    "                journal = div.find_element(By.CSS_SELECTOR, 'a.ar-pub').text\n",
    "            except:\n",
    "                journal = \"N/A\"\n",
    "            try:\n",
    "                year = div.find_element(By.CSS_SELECTOR, 'a.ar-year').text\n",
    "            except:\n",
    "                year = \"N/A\"\n",
    "            try:\n",
    "                link = div.find_element(By.CSS_SELECTOR, 'div.ar-title > a').get_attribute(\"href\")\n",
    "            except:\n",
    "                link = \"N/A\"\n",
    "            \n",
    "            articles.append({\n",
    "                \"Title\": title,\n",
    "                \"Journal\": journal,\n",
    "                \"Year\": year,\n",
    "                \"Link\": link\n",
    "            })\n",
    "        \n",
    "        if page < total_pages:\n",
    "            try:\n",
    "                next_button = driver.find_element(By.LINK_TEXT, \"Next\")\n",
    "                next_button.click()\n",
    "            except:\n",
    "                print(\"No next button found, stopping navigation.\")\n",
    "                break\n",
    "    \n",
    "    return articles\n",
    "\n",
    "def save_articles_to_files(articles, filename_prefix):\n",
    "    articles_df = pd.DataFrame(articles)\n",
    "    articles_df.to_csv(f\"{filename_prefix}_articles.csv\", index=False)\n",
    "    articles_df.to_excel(f\"{filename_prefix}_articles.xlsx\", index=False)\n",
    "    print(articles_df)\n"
   ]
  },
  {
   "cell_type": "code",
   "execution_count": 9,
   "metadata": {},
   "outputs": [
    {
     "ename": "NoSuchElementException",
     "evalue": "Message: no such element: Unable to locate element: {\"method\":\"xpath\",\"selector\":\"//input[@name=\"username\"]\"}\n  (Session info: chrome=130.0.6723.70); For documentation on this error, please visit: https://www.selenium.dev/documentation/webdriver/troubleshooting/errors#no-such-element-exception\nStacktrace:\n\tGetHandleVerifier [0x00007FF7B02C3AB5+28005]\n\t(No symbol) [0x00007FF7B02283B0]\n\t(No symbol) [0x00007FF7B00C580A]\n\t(No symbol) [0x00007FF7B0115A3E]\n\t(No symbol) [0x00007FF7B0115D2C]\n\t(No symbol) [0x00007FF7B015EA97]\n\t(No symbol) [0x00007FF7B013BA7F]\n\t(No symbol) [0x00007FF7B015B8B3]\n\t(No symbol) [0x00007FF7B013B7E3]\n\t(No symbol) [0x00007FF7B01075C8]\n\t(No symbol) [0x00007FF7B0108731]\n\tGetHandleVerifier [0x00007FF7B05B643D+3118829]\n\tGetHandleVerifier [0x00007FF7B0606C90+3448640]\n\tGetHandleVerifier [0x00007FF7B05FCF0D+3408317]\n\tGetHandleVerifier [0x00007FF7B038A40B+841403]\n\t(No symbol) [0x00007FF7B023340F]\n\t(No symbol) [0x00007FF7B022F484]\n\t(No symbol) [0x00007FF7B022F61D]\n\t(No symbol) [0x00007FF7B021EB79]\n\tBaseThreadInitThunk [0x00007FF9BF78257D+29]\n\tRtlUserThreadStart [0x00007FF9C068AF08+40]\n",
     "output_type": "error",
     "traceback": [
      "\u001b[1;31m---------------------------------------------------------------------------\u001b[0m",
      "\u001b[1;31mNoSuchElementException\u001b[0m                    Traceback (most recent call last)",
      "Cell \u001b[1;32mIn[9], line 27\u001b[0m\n\u001b[0;32m     24\u001b[0m         driver\u001b[38;5;241m.\u001b[39mquit()\n\u001b[0;32m     26\u001b[0m \u001b[38;5;28;01mif\u001b[39;00m \u001b[38;5;18m__name__\u001b[39m \u001b[38;5;241m==\u001b[39m \u001b[38;5;124m\"\u001b[39m\u001b[38;5;124m__main__\u001b[39m\u001b[38;5;124m\"\u001b[39m:\n\u001b[1;32m---> 27\u001b[0m     \u001b[43mmain\u001b[49m\u001b[43m(\u001b[49m\u001b[43m)\u001b[49m\n",
      "Cell \u001b[1;32mIn[9], line 10\u001b[0m, in \u001b[0;36mmain\u001b[1;34m()\u001b[0m\n\u001b[0;32m      8\u001b[0m driver \u001b[38;5;241m=\u001b[39m setup_driver()\n\u001b[0;32m      9\u001b[0m \u001b[38;5;28;01mtry\u001b[39;00m:\n\u001b[1;32m---> 10\u001b[0m     \u001b[43mlogin_sinta\u001b[49m\u001b[43m(\u001b[49m\u001b[43mdriver\u001b[49m\u001b[43m,\u001b[49m\u001b[43m \u001b[49m\u001b[43musername\u001b[49m\u001b[43m,\u001b[49m\u001b[43m \u001b[49m\u001b[43mpassword\u001b[49m\u001b[43m)\u001b[49m\n\u001b[0;32m     11\u001b[0m     load_session(driver)\n\u001b[0;32m     13\u001b[0m     \u001b[38;5;66;03m# Scrape Scopus Articles\u001b[39;00m\n",
      "Cell \u001b[1;32mIn[3], line 4\u001b[0m, in \u001b[0;36mlogin_sinta\u001b[1;34m(driver, username, password)\u001b[0m\n\u001b[0;32m      2\u001b[0m driver\u001b[38;5;241m.\u001b[39mget(\u001b[38;5;124m\"\u001b[39m\u001b[38;5;124mhttps://sinta.kemdikbud.go.id/\u001b[39m\u001b[38;5;124m\"\u001b[39m)\n\u001b[0;32m      3\u001b[0m time\u001b[38;5;241m.\u001b[39msleep(\u001b[38;5;241m3\u001b[39m)\n\u001b[1;32m----> 4\u001b[0m username_field \u001b[38;5;241m=\u001b[39m driver\u001b[38;5;241m.\u001b[39mfind_element(By\u001b[38;5;241m.\u001b[39mNAME, \u001b[38;5;124m\"\u001b[39m\u001b[38;5;124musername\u001b[39m\u001b[38;5;124m\"\u001b[39m) \u001b[38;5;28;01mif\u001b[39;00m \u001b[38;5;28mlen\u001b[39m(driver\u001b[38;5;241m.\u001b[39mfind_elements(By\u001b[38;5;241m.\u001b[39mNAME, \u001b[38;5;124m\"\u001b[39m\u001b[38;5;124musername\u001b[39m\u001b[38;5;124m\"\u001b[39m)) \u001b[38;5;241m>\u001b[39m \u001b[38;5;241m0\u001b[39m \u001b[38;5;28;01melse\u001b[39;00m \u001b[43mdriver\u001b[49m\u001b[38;5;241;43m.\u001b[39;49m\u001b[43mfind_element\u001b[49m\u001b[43m(\u001b[49m\u001b[43mBy\u001b[49m\u001b[38;5;241;43m.\u001b[39;49m\u001b[43mXPATH\u001b[49m\u001b[43m,\u001b[49m\u001b[43m \u001b[49m\u001b[38;5;124;43m'\u001b[39;49m\u001b[38;5;124;43m//input[@name=\u001b[39;49m\u001b[38;5;124;43m\"\u001b[39;49m\u001b[38;5;124;43musername\u001b[39;49m\u001b[38;5;124;43m\"\u001b[39;49m\u001b[38;5;124;43m]\u001b[39;49m\u001b[38;5;124;43m'\u001b[39;49m\u001b[43m)\u001b[49m\n\u001b[0;32m      5\u001b[0m password_field \u001b[38;5;241m=\u001b[39m driver\u001b[38;5;241m.\u001b[39mfind_element(By\u001b[38;5;241m.\u001b[39mNAME, \u001b[38;5;124m\"\u001b[39m\u001b[38;5;124mpassword\u001b[39m\u001b[38;5;124m\"\u001b[39m) \u001b[38;5;28;01mif\u001b[39;00m \u001b[38;5;28mlen\u001b[39m(driver\u001b[38;5;241m.\u001b[39mfind_elements(By\u001b[38;5;241m.\u001b[39mNAME, \u001b[38;5;124m\"\u001b[39m\u001b[38;5;124mpassword\u001b[39m\u001b[38;5;124m\"\u001b[39m)) \u001b[38;5;241m>\u001b[39m \u001b[38;5;241m0\u001b[39m \u001b[38;5;28;01melse\u001b[39;00m driver\u001b[38;5;241m.\u001b[39mfind_element(By\u001b[38;5;241m.\u001b[39mXPATH, \u001b[38;5;124m'\u001b[39m\u001b[38;5;124m//input[@name=\u001b[39m\u001b[38;5;124m\"\u001b[39m\u001b[38;5;124mpassword\u001b[39m\u001b[38;5;124m\"\u001b[39m\u001b[38;5;124m]\u001b[39m\u001b[38;5;124m'\u001b[39m)\n\u001b[0;32m      7\u001b[0m username_field\u001b[38;5;241m.\u001b[39msend_keys(username)\n",
      "File \u001b[1;32mc:\\Python312\\Lib\\site-packages\\selenium\\webdriver\\remote\\webdriver.py:748\u001b[0m, in \u001b[0;36mWebDriver.find_element\u001b[1;34m(self, by, value)\u001b[0m\n\u001b[0;32m    745\u001b[0m     by \u001b[38;5;241m=\u001b[39m By\u001b[38;5;241m.\u001b[39mCSS_SELECTOR\n\u001b[0;32m    746\u001b[0m     value \u001b[38;5;241m=\u001b[39m \u001b[38;5;124mf\u001b[39m\u001b[38;5;124m'\u001b[39m\u001b[38;5;124m[name=\u001b[39m\u001b[38;5;124m\"\u001b[39m\u001b[38;5;132;01m{\u001b[39;00mvalue\u001b[38;5;132;01m}\u001b[39;00m\u001b[38;5;124m\"\u001b[39m\u001b[38;5;124m]\u001b[39m\u001b[38;5;124m'\u001b[39m\n\u001b[1;32m--> 748\u001b[0m \u001b[38;5;28;01mreturn\u001b[39;00m \u001b[38;5;28;43mself\u001b[39;49m\u001b[38;5;241;43m.\u001b[39;49m\u001b[43mexecute\u001b[49m\u001b[43m(\u001b[49m\u001b[43mCommand\u001b[49m\u001b[38;5;241;43m.\u001b[39;49m\u001b[43mFIND_ELEMENT\u001b[49m\u001b[43m,\u001b[49m\u001b[43m \u001b[49m\u001b[43m{\u001b[49m\u001b[38;5;124;43m\"\u001b[39;49m\u001b[38;5;124;43musing\u001b[39;49m\u001b[38;5;124;43m\"\u001b[39;49m\u001b[43m:\u001b[49m\u001b[43m \u001b[49m\u001b[43mby\u001b[49m\u001b[43m,\u001b[49m\u001b[43m \u001b[49m\u001b[38;5;124;43m\"\u001b[39;49m\u001b[38;5;124;43mvalue\u001b[39;49m\u001b[38;5;124;43m\"\u001b[39;49m\u001b[43m:\u001b[49m\u001b[43m \u001b[49m\u001b[43mvalue\u001b[49m\u001b[43m}\u001b[49m\u001b[43m)\u001b[49m[\u001b[38;5;124m\"\u001b[39m\u001b[38;5;124mvalue\u001b[39m\u001b[38;5;124m\"\u001b[39m]\n",
      "File \u001b[1;32mc:\\Python312\\Lib\\site-packages\\selenium\\webdriver\\remote\\webdriver.py:354\u001b[0m, in \u001b[0;36mWebDriver.execute\u001b[1;34m(self, driver_command, params)\u001b[0m\n\u001b[0;32m    352\u001b[0m response \u001b[38;5;241m=\u001b[39m \u001b[38;5;28mself\u001b[39m\u001b[38;5;241m.\u001b[39mcommand_executor\u001b[38;5;241m.\u001b[39mexecute(driver_command, params)\n\u001b[0;32m    353\u001b[0m \u001b[38;5;28;01mif\u001b[39;00m response:\n\u001b[1;32m--> 354\u001b[0m     \u001b[38;5;28;43mself\u001b[39;49m\u001b[38;5;241;43m.\u001b[39;49m\u001b[43merror_handler\u001b[49m\u001b[38;5;241;43m.\u001b[39;49m\u001b[43mcheck_response\u001b[49m\u001b[43m(\u001b[49m\u001b[43mresponse\u001b[49m\u001b[43m)\u001b[49m\n\u001b[0;32m    355\u001b[0m     response[\u001b[38;5;124m\"\u001b[39m\u001b[38;5;124mvalue\u001b[39m\u001b[38;5;124m\"\u001b[39m] \u001b[38;5;241m=\u001b[39m \u001b[38;5;28mself\u001b[39m\u001b[38;5;241m.\u001b[39m_unwrap_value(response\u001b[38;5;241m.\u001b[39mget(\u001b[38;5;124m\"\u001b[39m\u001b[38;5;124mvalue\u001b[39m\u001b[38;5;124m\"\u001b[39m, \u001b[38;5;28;01mNone\u001b[39;00m))\n\u001b[0;32m    356\u001b[0m     \u001b[38;5;28;01mreturn\u001b[39;00m response\n",
      "File \u001b[1;32mc:\\Python312\\Lib\\site-packages\\selenium\\webdriver\\remote\\errorhandler.py:229\u001b[0m, in \u001b[0;36mErrorHandler.check_response\u001b[1;34m(self, response)\u001b[0m\n\u001b[0;32m    227\u001b[0m         alert_text \u001b[38;5;241m=\u001b[39m value[\u001b[38;5;124m\"\u001b[39m\u001b[38;5;124malert\u001b[39m\u001b[38;5;124m\"\u001b[39m]\u001b[38;5;241m.\u001b[39mget(\u001b[38;5;124m\"\u001b[39m\u001b[38;5;124mtext\u001b[39m\u001b[38;5;124m\"\u001b[39m)\n\u001b[0;32m    228\u001b[0m     \u001b[38;5;28;01mraise\u001b[39;00m exception_class(message, screen, stacktrace, alert_text)  \u001b[38;5;66;03m# type: ignore[call-arg]  # mypy is not smart enough here\u001b[39;00m\n\u001b[1;32m--> 229\u001b[0m \u001b[38;5;28;01mraise\u001b[39;00m exception_class(message, screen, stacktrace)\n",
      "\u001b[1;31mNoSuchElementException\u001b[0m: Message: no such element: Unable to locate element: {\"method\":\"xpath\",\"selector\":\"//input[@name=\"username\"]\"}\n  (Session info: chrome=130.0.6723.70); For documentation on this error, please visit: https://www.selenium.dev/documentation/webdriver/troubleshooting/errors#no-such-element-exception\nStacktrace:\n\tGetHandleVerifier [0x00007FF7B02C3AB5+28005]\n\t(No symbol) [0x00007FF7B02283B0]\n\t(No symbol) [0x00007FF7B00C580A]\n\t(No symbol) [0x00007FF7B0115A3E]\n\t(No symbol) [0x00007FF7B0115D2C]\n\t(No symbol) [0x00007FF7B015EA97]\n\t(No symbol) [0x00007FF7B013BA7F]\n\t(No symbol) [0x00007FF7B015B8B3]\n\t(No symbol) [0x00007FF7B013B7E3]\n\t(No symbol) [0x00007FF7B01075C8]\n\t(No symbol) [0x00007FF7B0108731]\n\tGetHandleVerifier [0x00007FF7B05B643D+3118829]\n\tGetHandleVerifier [0x00007FF7B0606C90+3448640]\n\tGetHandleVerifier [0x00007FF7B05FCF0D+3408317]\n\tGetHandleVerifier [0x00007FF7B038A40B+841403]\n\t(No symbol) [0x00007FF7B023340F]\n\t(No symbol) [0x00007FF7B022F484]\n\t(No symbol) [0x00007FF7B022F61D]\n\t(No symbol) [0x00007FF7B021EB79]\n\tBaseThreadInitThunk [0x00007FF9BF78257D+29]\n\tRtlUserThreadStart [0x00007FF9C068AF08+40]\n"
     ]
    }
   ],
   "source": [
    "\n",
    "def main():\n",
    "    # chrome_driver_path = \"/path/to/chromedriver\"\n",
    "    username = \"\"\n",
    "    password = \"\"\n",
    "    researcher_id = \"5986966\"\n",
    "    \n",
    "    # driver = setup_driver(chrome_driver_path)\n",
    "    driver = setup_driver()\n",
    "    try:\n",
    "        login_sinta(driver, username, password)\n",
    "        load_session(driver)\n",
    "        \n",
    "        # Scrape Scopus Articles\n",
    "        navigate_to_tab(driver, researcher_id, \"scopus\")\n",
    "        scopus_articles = scrape_articles(driver)\n",
    "        save_articles_to_files(scopus_articles, \"scopus\")\n",
    "        \n",
    "        # Scrape WOS Articles\n",
    "        navigate_to_tab(driver, researcher_id, \"wos\")\n",
    "        wos_articles = scrape_articles(driver)\n",
    "        save_articles_to_files(wos_articles, \"wos\")\n",
    "        \n",
    "    finally:\n",
    "        driver.quit()\n",
    "\n",
    "if __name__ == \"__main__\":\n",
    "    main()\n"
   ]
  }
 ],
 "metadata": {
  "kernelspec": {
   "display_name": "Python 3",
   "language": "python",
   "name": "python3"
  },
  "language_info": {
   "codemirror_mode": {
    "name": "ipython",
    "version": 3
   },
   "file_extension": ".py",
   "mimetype": "text/x-python",
   "name": "python",
   "nbconvert_exporter": "python",
   "pygments_lexer": "ipython3",
   "version": "3.12.3"
  }
 },
 "nbformat": 4,
 "nbformat_minor": 2
}
