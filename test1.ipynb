{
 "cells": [
  {
   "cell_type": "code",
   "execution_count": null,
   "metadata": {
    "vscode": {
     "languageId": "plaintext"
    }
   },
   "outputs": [],
   "source": [
    "from sinta import Sinta\n",
    "\n",
    "# Initialize with an author ID\n",
    "sinta = Sinta()\n",
    "author_data = sinta.author('5977530')  # replace with actual ID\n",
    "\n",
    "# Access profile data\n",
    "print(author_data)"
   ]
  }
 ],
 "metadata": {
  "language_info": {
   "name": "python"
  }
 },
 "nbformat": 4,
 "nbformat_minor": 2
}
