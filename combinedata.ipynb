{
 "cells": [
  {
   "cell_type": "code",
   "execution_count": 1,
   "metadata": {},
   "outputs": [
    {
     "name": "stdout",
     "output_type": "stream",
     "text": [
      "Combined file saved at: XLSX/combined_articles_with_source_161222.xlsx\n"
     ]
    }
   ],
   "source": [
    "import pandas as pd\n",
    "\n",
    "# Define researcher ID\n",
    "researcher_id = '161222'\n",
    "\n",
    "# Define file paths with dynamic researcher ID\n",
    "file_paths = [\n",
    "    f\"XLSX/wos_{researcher_id}_articles.xlsx\",\n",
    "    f\"XLSX/garuda_{researcher_id}_articles.xlsx\",\n",
    "    f\"XLSX/googlescholar_{researcher_id}_articles.xlsx\",\n",
    "    f\"XLSX/scopus_{researcher_id}_articles.xlsx\"\n",
    "]\n",
    "\n",
    "# Initialize an empty DataFrame for combining data\n",
    "combined_df = pd.DataFrame()\n",
    "\n",
    "# Loop through each file path\n",
    "for file_path in file_paths:\n",
    "    # Identify the source name from the file path (e.g., \"WOS\" or \"Garuda\")\n",
    "    source_name = file_path.split('/')[-1].split('_')[0].capitalize()\n",
    "    \n",
    "    try:\n",
    "        # Load the Excel file\n",
    "        df = pd.read_excel(file_path)\n",
    "        \n",
    "        # Add \"Source\" column with the name based on the file\n",
    "        df['Source'] = source_name\n",
    "        \n",
    "        # Combine each DataFrame while aligning on column names\n",
    "        combined_df = pd.concat([combined_df, df], ignore_index=True)\n",
    "    \n",
    "    except FileNotFoundError:\n",
    "        print(f\"File {file_path} not found. Skipping this source.\")\n",
    "    except Exception as e:\n",
    "        print(f\"An error occurred with {file_path}: {e}\")\n",
    "\n",
    "# Save the combined data to a new Excel file\n",
    "output_path = f\"XLSX/combined_articles_with_source_{researcher_id}.xlsx\"\n",
    "combined_df.to_excel(output_path, index=False)\n",
    "\n",
    "print(f\"Combined file saved at: {output_path}\")\n"
   ]
  }
 ],
 "metadata": {
  "kernelspec": {
   "display_name": "Python 3",
   "language": "python",
   "name": "python3"
  },
  "language_info": {
   "codemirror_mode": {
    "name": "ipython",
    "version": 3
   },
   "file_extension": ".py",
   "mimetype": "text/x-python",
   "name": "python",
   "nbconvert_exporter": "python",
   "pygments_lexer": "ipython3",
   "version": "3.12.3"
  }
 },
 "nbformat": 4,
 "nbformat_minor": 2
}
