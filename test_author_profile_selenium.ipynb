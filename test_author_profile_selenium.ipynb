{
 "cells": [
  {
   "cell_type": "code",
   "execution_count": 1,
   "metadata": {},
   "outputs": [],
   "source": [
    "from selenium import webdriver\n",
    "from selenium.webdriver.common.by import By\n",
    "from selenium.webdriver.chrome.service import Service\n",
    "from selenium.webdriver.support.ui import WebDriverWait\n",
    "from selenium.webdriver.support import expected_conditions as EC\n",
    "from selenium.webdriver.chrome.options import Options\n",
    "from bs4 import BeautifulSoup\n",
    "import time\n"
   ]
  },
  {
   "cell_type": "code",
   "execution_count": 8,
   "metadata": {},
   "outputs": [
    {
     "ename": "",
     "evalue": "",
     "output_type": "error",
     "traceback": [
      "\u001b[1;31mThe Kernel crashed while executing code in the current cell or a previous cell. \n",
      "\u001b[1;31mPlease review the code in the cell(s) to identify a possible cause of the failure. \n",
      "\u001b[1;31mClick <a href='https://aka.ms/vscodeJupyterKernelCrash'>here</a> for more info. \n",
      "\u001b[1;31mView Jupyter <a href='command:jupyter.viewOutput'>log</a> for further details."
     ]
    }
   ],
   "source": [
    "# # Setup Chrome driver\n",
    "\n",
    "# chrome_options = webdriver.ChromeOptions()\n",
    "# chrome_options.add_argument('--headless')\n",
    "# chrome_options.add_argument('--no-sandbox')\n",
    "# chrome_options.add_argument('--disable-dev-shm-usage')\n",
    "# driver = webdriver.Chrome(options=chrome_options)"
   ]
  },
  {
   "cell_type": "code",
   "execution_count": 3,
   "metadata": {},
   "outputs": [],
   "source": [
    "\n",
    "def get_author_profile(researcher_id):\n",
    "    # Setup Chrome driver\n",
    "\n",
    "    chrome_options = webdriver.ChromeOptions()\n",
    "    chrome_options.add_argument('--headless')\n",
    "    chrome_options.add_argument('--no-sandbox')\n",
    "    chrome_options.add_argument('--disable-dev-shm-usage')\n",
    "    driver = webdriver.Chrome(options=chrome_options)\n",
    "    \n",
    "    try:\n",
    "        # Navigate to the SINTA author profile page\n",
    "        url = f\"https://sinta.kemdikbud.go.id/authors/profile/{researcher_id}/\"\n",
    "        driver.get(url)\n",
    "        \n",
    "        # Wait for the page to load\n",
    "        WebDriverWait(driver, 10).until(EC.presence_of_element_located((By.TAG_NAME, 'body')))\n",
    "        \n",
    "        # Extract the page source and parse with BeautifulSoup\n",
    "        soup = BeautifulSoup(driver.page_source, 'html.parser')\n",
    "        \n",
    "        author_name = extract_author_name(soup)\n",
    "        print(f\"Author Name: {author_name}\")\n",
    "        \n",
    "        affiliation = extract_affiliation(soup)\n",
    "        print(f\"Affiliation: {affiliation}\")\n",
    "        \n",
    "        sinta_score = extract_sinta_score(soup)\n",
    "        if sinta_score:\n",
    "            print(f\"SINTA Score Overall: {sinta_score}\")\n",
    "        \n",
    "        subject_list = extract_subjects(soup)\n",
    "        print(f\"Subjects: {', '.join(subject_list)}\")\n",
    "        \n",
    "        total_pages = extract_total_pages(soup)\n",
    "        if total_pages:\n",
    "            print(f\"Total Pages: {total_pages}\")\n",
    "            get_all_scopus_documents(driver, researcher_id, total_pages)\n",
    "    finally:\n",
    "        # Close the browser\n",
    "        driver.quit()\n"
   ]
  },
  {
   "cell_type": "code",
   "execution_count": 4,
   "metadata": {},
   "outputs": [],
   "source": [
    "\n",
    "def extract_author_name(soup):\n",
    "    return soup.find('h3').get_text(strip=True)\n",
    "\n",
    "def extract_affiliation(soup):\n",
    "    return soup.find('a', href=lambda x: x and 'affiliations' in x).get_text(strip=True)\n",
    "\n",
    "def extract_sinta_score(soup):\n",
    "    sinta_score_div = soup.find('div', class_='pr-num')\n",
    "    if sinta_score_div:\n",
    "        return sinta_score_div.get_text(strip=True)\n",
    "    return None\n",
    "\n",
    "def extract_subjects(soup):\n",
    "    subject_list = []\n",
    "    subjects = soup.find_all('li', class_='subject-list')\n",
    "    for subject in subjects:\n",
    "        subject_list.append(subject.get_text(strip=True))\n",
    "    return subject_list\n",
    "\n",
    "def extract_total_pages(soup):\n",
    "    pagination = soup.find('ul', class_='pagination justify-content-center')\n",
    "    if pagination:\n",
    "        pagination_links = pagination.find_all('li', class_='page-item')\n",
    "        if len(pagination_links) > 1:\n",
    "            last_page_link = pagination_links[-2].find('a', class_='page-link')\n",
    "            if last_page_link:\n",
    "                return int(last_page_link.get_text(strip=True))\n",
    "    return 1\n",
    "\n",
    "def get_all_scopus_documents(driver, researcher_id, total_pages):\n",
    "    publications = []\n",
    "    for page_num in range(1, total_pages + 1):\n",
    "        page_url = f\"https://sinta.kemdikbud.go.id/authors/profile/{researcher_id}/?page={page_num}&view=scopus\"\n",
    "        driver.get(page_url)\n",
    "        \n",
    "        # Wait for the page to load\n",
    "        WebDriverWait(driver, 10).until(EC.presence_of_element_located((By.TAG_NAME, 'body')))\n",
    "        \n",
    "        # Extract the page source and parse with BeautifulSoup\n",
    "        page_soup = BeautifulSoup(driver.page_source, 'html.parser')\n",
    "        publications.extend(extract_publications(page_soup))\n",
    "    \n",
    "    for idx, title in enumerate(publications, 1):\n",
    "        print(f\"Publication {idx}: {title}\")\n",
    "\n",
    "def extract_publications(soup):\n",
    "    publications = soup.find_all('div', class_='ar-title')\n",
    "    return [publication.get_text(strip=True) for publication in publications]\n"
   ]
  },
  {
   "cell_type": "code",
   "execution_count": 5,
   "metadata": {},
   "outputs": [
    {
     "name": "stdout",
     "output_type": "stream",
     "text": [
      "Author Name: AJI SURAJI\n",
      "Affiliation: Affiliations\n",
      "SINTA Score Overall: 2.326\n",
      "Subjects: \n",
      "Total Pages: 1\n",
      "Publication 1: Effects of overloading commercial vehicles on road design life\n",
      "Publication 2: Identification of Road Surface Defects Using Multiclass Support Vector Machine\n",
      "Publication 3: Moving Car Observation (MCO) for Road Surface Defect Identification Using GPS Video\n",
      "Publication 4: Smart Route Choice Based on Google Maps Application in Urban Road Network\n",
      "Publication 5: Correlation of Expansive Soil and Road Pavement Conditions Using Data Mining from GIS Portal\n",
      "Publication 6: Application of the Synthetic Over-Sampling Method to Increase the Sensitivity of Algorithm Classification for Class Imbalance in Small Spatial Datasets\n",
      "Publication 7: Empirical Study of a Spatial Analysis for Prone Road Traffic Accident Classification based on MCDM Method\n",
      "Publication 8: ACCIDENT RISK ANALYSIS OF ROAD GEOMETRIC COMPONENTS USING FUNCTIONAL WORTHINESS APPROACH\n",
      "Publication 9: ANALYSIS OF INTERCITY BUS PUBLIC TRANSPORT SAFETY PERCEPTION MODELING USING CONJOINT\n",
      "Publication 10: Analysis of bus performance on the risk of traffic accidents in East Java-Indonesia\n"
     ]
    }
   ],
   "source": [
    "\n",
    "# Call the function with the researcher_id\n",
    "researcher_id = \"5986966\"\n",
    "get_author_profile(researcher_id)\n"
   ]
  },
  {
   "cell_type": "code",
   "execution_count": 6,
   "metadata": {},
   "outputs": [
    {
     "name": "stdout",
     "output_type": "stream",
     "text": [
      "Halaman ini tidak memiliki elemen pagination.\n"
     ]
    }
   ],
   "source": [
    "import requests\n",
    "from bs4 import BeautifulSoup\n",
    "\n",
    "# URL profil penulis Sinta\n",
    "url = \"https://sinta.kemdikbud.go.id/authors/profile/5986966/\"\n",
    "\n",
    "try:\n",
    "    # Mengirim permintaan ke server\n",
    "    response = requests.get(url)\n",
    "    response.raise_for_status()  # Memastikan respons yang sukses (status 200)\n",
    "    \n",
    "    # Mem-parsing konten HTML dengan BeautifulSoup\n",
    "    soup = BeautifulSoup(response.text, \"html.parser\")\n",
    "    \n",
    "    # Memeriksa elemen pagination\n",
    "    pagination = soup.find(\"ul\", class_=\"pagination justify-content-center\")\n",
    "    \n",
    "    if pagination:\n",
    "        print(\"Halaman ini memiliki elemen pagination.\")\n",
    "        \n",
    "        # Menghitung jumlah halaman dari elemen pagination\n",
    "        pages = pagination.find_all(\"li\", class_=\"page-item\")\n",
    "        total_pages = sum(1 for page in pages if page.text.isdigit())\n",
    "        print(f\"Total halaman publikasi: {total_pages}\")\n",
    "    else:\n",
    "        print(\"Halaman ini tidak memiliki elemen pagination.\")\n",
    "        \n",
    "except requests.exceptions.RequestException as e:\n",
    "    print(f\"Gagal mengakses halaman: {e}\")\n"
   ]
  },
  {
   "cell_type": "code",
   "execution_count": null,
   "metadata": {},
   "outputs": [],
   "source": []
  }
 ],
 "metadata": {
  "kernelspec": {
   "display_name": "Python 3",
   "language": "python",
   "name": "python3"
  },
  "language_info": {
   "codemirror_mode": {
    "name": "ipython",
    "version": 3
   },
   "file_extension": ".py",
   "mimetype": "text/x-python",
   "name": "python",
   "nbconvert_exporter": "python",
   "pygments_lexer": "ipython3",
   "version": "3.12.3"
  }
 },
 "nbformat": 4,
 "nbformat_minor": 2
}
