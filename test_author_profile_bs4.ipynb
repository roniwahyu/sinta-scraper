{
 "cells": [
  {
   "cell_type": "code",
   "execution_count": 1,
   "metadata": {},
   "outputs": [],
   "source": [
    "import requests\n",
    "from bs4 import BeautifulSoup\n"
   ]
  },
  {
   "cell_type": "code",
   "execution_count": 28,
   "metadata": {},
   "outputs": [],
   "source": [
    "\n",
    "def get_author_profile(researcher_id):\n",
    "    url = f\"https://sinta.kemdikbud.go.id/authors/profile/{researcher_id}/\"\n",
    "    response = requests.get(url)\n",
    "    \n",
    "    if response.status_code == 200:\n",
    "        soup = BeautifulSoup(response.content, 'html.parser')\n",
    "        \n",
    "        author_name = extract_author_name(soup)\n",
    "        print(f\"Author Name: {author_name}\")\n",
    "        \n",
    "        affiliation = extract_affiliation(soup)\n",
    "        print(f\"Affiliation: {affiliation}\")\n",
    "        \n",
    "        sinta_score = extract_sinta_score(soup)\n",
    "        if sinta_score:\n",
    "            print(f\"SINTA Score Overall: {sinta_score}\")\n",
    "        \n",
    "        subject_list = extract_subjects(soup)\n",
    "        print(f\"Subjects: {', '.join(subject_list)}\")\n",
    "        \n",
    "        total_pages = extract_total_pages(soup)\n",
    "        if total_pages:\n",
    "            print(f\"Total Pages: {total_pages}\")\n",
    "            get_all_scopus_documents(researcher_id, total_pages)\n",
    "    else:\n",
    "        print(f\"Failed to retrieve page with status code: {response.status_code}\")\n",
    "\n",
    "def extract_author_name(soup):\n",
    "    return soup.find('h3').get_text(strip=True)\n",
    "\n",
    "def extract_affiliation(soup):\n",
    "    return soup.find('a', href=lambda x: x and 'affiliations' in x).get_text(strip=True)\n",
    "\n",
    "def extract_sinta_score(soup):\n",
    "    sinta_score_div = soup.find('div', class_='pr-num')\n",
    "    if sinta_score_div:\n",
    "        return sinta_score_div.get_text(strip=True)\n",
    "    return None\n",
    "\n",
    "def extract_subjects(soup):\n",
    "    subject_list = []\n",
    "    subjects = soup.find_all('li', class_='subject-list')\n",
    "    for subject in subjects:\n",
    "        subject_list.append(subject.get_text(strip=True))\n",
    "    return subject_list\n"
   ]
  },
  {
   "cell_type": "code",
   "execution_count": 36,
   "metadata": {},
   "outputs": [],
   "source": [
    "\n",
    "def extract_total_pages(soup):\n",
    "   # Mencari elemen pagination\n",
    "    pagination = soup.find(\"ul\", class_=\"pagination justify-content-center\")\n",
    "    \n",
    "    if pagination:\n",
    "        # Mengambil semua elemen 'page-item' di dalam pagination\n",
    "        pages = pagination.find_all(\"li\", class_=\"page-item\")\n",
    "        \n",
    "        # Menghitung jumlah halaman\n",
    "        # Mengabaikan 'Previous' dan 'Next' dengan menyaring page-item yang berisi angka\n",
    "        total_pages = sum(1 for page in pages if page.text.isdigit())\n",
    "        print(f\"Total halaman publikasi: {total_pages}\")\n",
    "    else:\n",
    "        print(\"Informasi jumlah halaman tidak ditemukan.\")\n",
    "\n",
    "def get_all_scopus_documents(researcher_id, total_pages):\n",
    "    publications = []\n",
    "    for page_num in range(1, total_pages + 1):\n",
    "        page_url = f\"https://sinta.kemdikbud.go.id/authors/profile/{researcher_id}\"\n",
    "        page_response = requests.get(page_url)\n",
    "        if page_response.status_code == 200:\n",
    "            page_soup = BeautifulSoup(page_response.content, 'html.parser')\n",
    "            publications.extend(extract_publications(page_soup))\n",
    "        else:\n",
    "            print(f\"Failed to retrieve page {page_num} with status code: {page_response.status_code}\")\n",
    "    \n",
    "    for idx, title in enumerate(publications, 1):\n",
    "        print(f\"Publication {idx}: {title}\")\n",
    "\n",
    "def extract_publications(soup):\n",
    "    publications = soup.find_all('div', class_='ar-title')\n",
    "    return [publication.get_text(strip=True) for publication in publications]\n",
    "\n"
   ]
  },
  {
   "cell_type": "code",
   "execution_count": 40,
   "metadata": {},
   "outputs": [
    {
     "name": "stdout",
     "output_type": "stream",
     "text": [
      "Halaman ini tidak memiliki elemen pagination.\n"
     ]
    }
   ],
   "source": [
    "url = \"https://sinta.kemdikbud.go.id/authors/profile/5986966\"\n",
    "\n",
    "try:\n",
    "    # Mengirim permintaan ke server\n",
    "    response = requests.get(url)\n",
    "    response.raise_for_status()  # Memastikan respons yang sukses (status 200)\n",
    "    \n",
    "    # Mem-parsing konten HTML dengan BeautifulSoup\n",
    "    soup = BeautifulSoup(response.text, \"html.parser\")\n",
    "    \n",
    "    # Memeriksa elemen pagination\n",
    "    pagination = soup.find(\"ul\", class_=\"pagination justify-content-center\")\n",
    "    \n",
    "    if pagination:\n",
    "        print(\"Halaman ini memiliki elemen pagination.\")\n",
    "        \n",
    "        # Menghitung jumlah halaman dari elemen pagination\n",
    "        pages = pagination.find_all(\"li\", class_=\"page-item\")\n",
    "        total_pages = sum(1 for page in pages if page.text.isdigit())\n",
    "        print(f\"Total halaman publikasi: {total_pages}\")\n",
    "    else:\n",
    "        print(\"Halaman ini tidak memiliki elemen pagination.\")\n",
    "        \n",
    "except requests.exceptions.RequestException as e:\n",
    "    print(f\"Gagal mengakses halaman: {e}\")"
   ]
  },
  {
   "cell_type": "code",
   "execution_count": 37,
   "metadata": {},
   "outputs": [
    {
     "name": "stdout",
     "output_type": "stream",
     "text": [
      "Author Name: AJI SURAJI\n",
      "Affiliation: Affiliations\n",
      "SINTA Score Overall: 2.326\n",
      "Subjects: \n",
      "Informasi jumlah halaman tidak ditemukan.\n"
     ]
    }
   ],
   "source": [
    "\n",
    "# Call the function with the researcher_id\n",
    "get_author_profile(5986966)\n"
   ]
  }
 ],
 "metadata": {
  "kernelspec": {
   "display_name": "Python 3",
   "language": "python",
   "name": "python3"
  },
  "language_info": {
   "codemirror_mode": {
    "name": "ipython",
    "version": 3
   },
   "file_extension": ".py",
   "mimetype": "text/x-python",
   "name": "python",
   "nbconvert_exporter": "python",
   "pygments_lexer": "ipython3",
   "version": "3.12.3"
  }
 },
 "nbformat": 4,
 "nbformat_minor": 2
}
