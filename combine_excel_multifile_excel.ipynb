{
 "cells": [
  {
   "cell_type": "code",
   "execution_count": 1,
   "metadata": {},
   "outputs": [
    {
     "name": "stdout",
     "output_type": "stream",
     "text": [
      "Combined workbook with separate worksheets saved for ISTIADI at: XLSX/SINTA_ISTIADI.xlsx\n",
      "Combined workbook with separate worksheets saved for ADYA HERMAWATI at: XLSX/SINTA_ADYA_HERMAWATI.xlsx\n",
      "Combined workbook with separate worksheets saved for PURBO SUWANDONO at: XLSX/SINTA_PURBO_SUWANDONO.xlsx\n",
      "Combined workbook with separate worksheets saved for EMMA BUDI SULISTIARINI at: XLSX/SINTA_EMMA_BUDI_SULISTIARINI.xlsx\n",
      "Combined workbook with separate worksheets saved for ARIE RESTU WARDHANI at: XLSX/SINTA_ARIE_RESTU_WARDHANI.xlsx\n",
      "Combined workbook with separate worksheets saved for DADANG HERMAWAN at: XLSX/SINTA_DADANG_HERMAWAN.xlsx\n",
      "Combined workbook with separate worksheets saved for NOVA RISDIYANTO ISMAIL at: XLSX/SINTA_NOVA_RISDIYANTO_ISMAIL.xlsx\n",
      "Combined workbook with separate worksheets saved for CHAULIAH FATMA PUTRI at: XLSX/SINTA_CHAULIAH_FATMA_PUTRI.xlsx\n",
      "Combined workbook with separate worksheets saved for ARIEF RIZKI FADHILLAH at: XLSX/SINTA_ARIEF_RIZKI_FADHILLAH.xlsx\n",
      "Combined workbook with separate worksheets saved for SILVIANA at: XLSX/SINTA_SILVIANA.xlsx\n",
      "Combined workbook with separate worksheets saved for NGUDI TJAHJONO at: XLSX/SINTA_NGUDI_TJAHJONO.xlsx\n",
      "Combined workbook with separate worksheets saved for RANGGA PAHLEVI PUTRA at: XLSX/SINTA_RANGGA_PAHLEVI_PUTRA.xlsx\n",
      "Combined workbook with separate worksheets saved for ANDY HARDIANTO at: XLSX/SINTA_ANDY_HARDIANTO.xlsx\n"
     ]
    }
   ],
   "source": [
    "import os\n",
    "import pandas as pd\n",
    "from openpyxl import Workbook\n",
    "\n",
    "# Load the CSV file with researcher information\n",
    "researcher_data_path = \"XLSX/authors_data_teknikindustri.csv\"  # Update with the actual path\n",
    "researcher_data = pd.read_csv(researcher_data_path)\n",
    "\n",
    "# Iterate over each researcher based on SINTA_ID\n",
    "for _, row in researcher_data.iterrows():\n",
    "    researcher_id = str(row['SINTA_ID'])\n",
    "    author_name = row['Author_Name']\n",
    "    \n",
    "    # Define file paths for each researcher's specific files\n",
    "    file_paths = [\n",
    "        f\"XLSX/wos_{researcher_id}_articles.xlsx\",\n",
    "        f\"XLSX/garuda_{researcher_id}_articles.xlsx\",\n",
    "        f\"XLSX/googlescholar_{researcher_id}_articles.xlsx\",\n",
    "        f\"XLSX/scopus_{researcher_id}_articles.xlsx\"\n",
    "    ]\n",
    "    \n",
    "    # Create a new workbook\n",
    "    safe_author_name = author_name.replace(\" \", \"_\")  # Replace spaces with underscores for file naming\n",
    "    output_path = f\"XLSX/SINTA_{safe_author_name}.xlsx\"\n",
    "    \n",
    "    wb = Workbook()\n",
    "    default_ws = wb.active\n",
    "    default_ws.title = 'TempSheet'  # Temporary initial worksheet (will be removed)\n",
    "\n",
    "    # Process each file for the current researcher\n",
    "    for file_path in file_paths:\n",
    "        # Determine the worksheet name based on the source file name\n",
    "        worksheet_name = file_path.split('/')[-1].split('_')[0].capitalize()\n",
    "        \n",
    "        try:\n",
    "            # Load the Excel file into a pandas DataFrame\n",
    "            df = pd.read_excel(file_path)\n",
    "            \n",
    "            # Create a new worksheet with the appropriate name\n",
    "            ws = wb.create_sheet(title=worksheet_name)\n",
    "            \n",
    "            # Write the DataFrame to the worksheet\n",
    "            for row in df.itertuples(index=False):\n",
    "                ws.append(row)\n",
    "                \n",
    "            # Write the header row separately\n",
    "            for col_num, header in enumerate(df.columns, 1):\n",
    "                ws.cell(row=1, column=col_num, value=header)\n",
    "\n",
    "        except FileNotFoundError:\n",
    "            print(f\"File {file_path} not found for researcher {researcher_id}. Skipping this source.\")\n",
    "        except Exception as e:\n",
    "            print(f\"An error occurred with {file_path} for researcher {researcher_id}: {e}\")\n",
    "\n",
    "    # Remove the default initial worksheet\n",
    "    if 'TempSheet' in wb.sheetnames:\n",
    "        wb.remove(default_ws)\n",
    "    \n",
    "    # Save the combined workbook\n",
    "    wb.save(output_path)\n",
    "    \n",
    "    print(f\"Combined workbook with separate worksheets saved for {author_name} at: {output_path}\")\n"
   ]
  }
 ],
 "metadata": {
  "kernelspec": {
   "display_name": "Python 3",
   "language": "python",
   "name": "python3"
  },
  "language_info": {
   "codemirror_mode": {
    "name": "ipython",
    "version": 3
   },
   "file_extension": ".py",
   "mimetype": "text/x-python",
   "name": "python",
   "nbconvert_exporter": "python",
   "pygments_lexer": "ipython3",
   "version": "3.12.3"
  }
 },
 "nbformat": 4,
 "nbformat_minor": 2
}
