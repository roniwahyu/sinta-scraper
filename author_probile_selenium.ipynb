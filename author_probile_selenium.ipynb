{
 "cells": [
  {
   "cell_type": "code",
   "execution_count": 11,
   "metadata": {},
   "outputs": [],
   "source": [
    "from selenium import webdriver\n",
    "from selenium.webdriver.common.by import By\n",
    "from selenium.webdriver.chrome.service import Service\n",
    "from webdriver_manager.chrome import ChromeDriverManager\n",
    "from selenium.webdriver.chrome.options import Options\n",
    "import time\n",
    "import requests\n"
   ]
  },
  {
   "cell_type": "code",
   "execution_count": 12,
   "metadata": {},
   "outputs": [],
   "source": [
    "\n",
    "# Setup Chrome driver\n",
    "from selenium import webdriver\n",
    "chrome_options = webdriver.ChromeOptions()\n",
    "chrome_options.add_argument('--headless')\n",
    "chrome_options.add_argument('--no-sandbox')\n",
    "chrome_options.add_argument('--disable-dev-shm-usage')\n",
    "driver = webdriver.Chrome(options=chrome_options)"
   ]
  },
  {
   "cell_type": "code",
   "execution_count": 1,
   "metadata": {},
   "outputs": [
    {
     "ename": "NameError",
     "evalue": "name 'driver' is not defined",
     "output_type": "error",
     "traceback": [
      "\u001b[1;31m---------------------------------------------------------------------------\u001b[0m",
      "\u001b[1;31mNameError\u001b[0m                                 Traceback (most recent call last)",
      "Cell \u001b[1;32mIn[1], line 3\u001b[0m\n\u001b[0;32m      1\u001b[0m \u001b[38;5;66;03m# Membuka URL\u001b[39;00m\n\u001b[0;32m      2\u001b[0m url \u001b[38;5;241m=\u001b[39m \u001b[38;5;124m'\u001b[39m\u001b[38;5;124mhttps://sinta.kemdikbud.go.id/authors/profile/5983346\u001b[39m\u001b[38;5;124m'\u001b[39m\n\u001b[1;32m----> 3\u001b[0m \u001b[43mdriver\u001b[49m\u001b[38;5;241m.\u001b[39mget(url)\n\u001b[0;32m      4\u001b[0m \u001b[38;5;66;03m# Mengirim request ke server\u001b[39;00m\n\u001b[0;32m      5\u001b[0m response \u001b[38;5;241m=\u001b[39m requests\u001b[38;5;241m.\u001b[39mget(url)\n",
      "\u001b[1;31mNameError\u001b[0m: name 'driver' is not defined"
     ]
    }
   ],
   "source": [
    "\n",
    "\n",
    "# Membuka URL\n",
    "url = 'https://sinta.kemdikbud.go.id/authors/profile/5983346'\n",
    "driver.get(url)\n",
    "# Mengirim request ke server\n",
    "response = requests.get(url)\n",
    "\n",
    "# Menampilkan request dan respon dari server\n",
    "print(f'Request URL: {response.request.url}')\n",
    "print(f'Response Status Code: {response.status_code}')\n",
    "print(f'Response Headers: {response.headers}')\n",
    "print(f'Response Content: {response.text[:500]}...')  # Menampilkan sebagian isi respon untuk menjaga output tetap ringkas\n",
    "# Tunggu hingga elemen muncul\n",
    "time.sleep(5)\n"
   ]
  },
  {
   "cell_type": "code",
   "execution_count": 18,
   "metadata": {},
   "outputs": [
    {
     "ename": "",
     "evalue": "",
     "output_type": "error",
     "traceback": [
      "\u001b[1;31mThe Kernel crashed while executing code in the current cell or a previous cell. \n",
      "\u001b[1;31mPlease review the code in the cell(s) to identify a possible cause of the failure. \n",
      "\u001b[1;31mClick <a href='https://aka.ms/vscodeJupyterKernelCrash'>here</a> for more info. \n",
      "\u001b[1;31mView Jupyter <a href='command:jupyter.viewOutput'>log</a> for further details."
     ]
    }
   ],
   "source": [
    "# Tunggu hingga elemen muncul\n",
    "time.sleep(5)\n"
   ]
  },
  {
   "cell_type": "code",
   "execution_count": 15,
   "metadata": {},
   "outputs": [
    {
     "data": {
      "text/plain": [
       "<selenium.webdriver.chrome.webdriver.WebDriver (session=\"4cf092fa2422b34ff7bef5f24105228c\")>"
      ]
     },
     "execution_count": 15,
     "metadata": {},
     "output_type": "execute_result"
    }
   ],
   "source": [
    "driver"
   ]
  },
  {
   "cell_type": "code",
   "execution_count": 16,
   "metadata": {},
   "outputs": [
    {
     "name": "stdout",
     "output_type": "stream",
     "text": [
      "Nama Penulis: RIRIEN PRIHANDARINI\n",
      "Institusi: Universitas Widya Gama\n",
      "Bidang Penelitian: pertanian organik\n",
      "Artikel 1: Effect of formulated microorganisms, goat fertilizer and banana webs extract in organic kale (Brassica oleracea) (2021)\n",
      "Artikel 2: STUDY OF THE UTILIZATION OF RIM (REFRESH MICROORGANISM) IN SUGARCANE (2020)\n",
      "Artikel 3: Formulation of microorganisms for cane plants (2020)\n"
     ]
    }
   ],
   "source": [
    "\n",
    "# Tunggu hingga elemen muncul\n",
    "time.sleep(5)\n",
    "\n",
    "# Menyimpan data nama penulis\n",
    "nama_penulis = driver.find_element(By.TAG_NAME, 'h3').text\n",
    "print(f'Nama Penulis: {nama_penulis}')\n",
    "\n",
    "# Menyimpan data institusi\n",
    "institusi = driver.find_element(By.XPATH, \"//a[contains(@href, 'affiliations/profile')]\").text\n",
    "print(f'Institusi: {institusi}')\n",
    "\n",
    "# Menyimpan data bidang penelitian\n",
    "bidang_penelitian_elements = driver.find_elements(By.XPATH, \"//a[contains(@href, 'subjects/detail')]\")\n",
    "bidang_penelitian = [subject.text for subject in bidang_penelitian_elements]\n",
    "print(f'Bidang Penelitian: {\", \".join(bidang_penelitian)}')\n",
    "\n",
    "# Menyimpan daftar artikel\n",
    "artikel_elements = driver.find_elements(By.CLASS_NAME, 'ar-list-item')\n",
    "artikel = []\n",
    "for ar_item in artikel_elements:\n",
    "    judul = ar_item.find_element(By.CLASS_NAME, 'ar-title').text\n",
    "    tahun = ar_item.find_element(By.CLASS_NAME, 'ar-year').text\n",
    "    artikel.append({'judul': judul, 'tahun': tahun})\n",
    "\n",
    "for idx, ar in enumerate(artikel, 1):\n",
    "    print(f'Artikel {idx}: {ar[\"judul\"]} ({ar[\"tahun\"]})')\n",
    "\n",
    "# Tutup browser\n",
    "driver.quit()\n"
   ]
  }
 ],
 "metadata": {
  "kernelspec": {
   "display_name": "Python 3",
   "language": "python",
   "name": "python3"
  },
  "language_info": {
   "codemirror_mode": {
    "name": "ipython",
    "version": 3
   },
   "file_extension": ".py",
   "mimetype": "text/x-python",
   "name": "python",
   "nbconvert_exporter": "python",
   "pygments_lexer": "ipython3",
   "version": "3.12.3"
  }
 },
 "nbformat": 4,
 "nbformat_minor": 2
}
